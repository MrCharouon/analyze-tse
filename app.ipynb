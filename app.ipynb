{
 "cells": [
  {
   "cell_type": "code",
   "execution_count": 1,
   "id": "0dad5002",
   "metadata": {},
   "outputs": [],
   "source": [
    "import pandas as pd\n",
    "import requests\n",
    "import subprocess"
   ]
  },
  {
   "cell_type": "code",
   "execution_count": 2,
   "id": "4df6a802",
   "metadata": {},
   "outputs": [],
   "source": [
    "exit_code = subprocess.call('/home/ali/tmp/analyze-tse/directory.sh')\n",
    "# print(exit_code)"
   ]
  },
  {
   "cell_type": "code",
   "execution_count": 3,
   "id": "7b50a25b",
   "metadata": {},
   "outputs": [],
   "source": [
    "url = 'http://www.tsetmc.com/tsev2/data/MarketWatchPlus.aspx'\n",
    "r = requests.get(url)\n",
    "main_text = r.text"
   ]
  },
  {
   "cell_type": "code",
   "execution_count": 4,
   "id": "56f5d3cc",
   "metadata": {},
   "outputs": [],
   "source": [
    "text = main_text.split(';')\n",
    "rows = [row.split(',') for row in text]\n",
    "df = pd.DataFrame(rows)"
   ]
  },
  {
   "cell_type": "code",
   "execution_count": 5,
   "id": "553cf829",
   "metadata": {},
   "outputs": [],
   "source": [
    "csvs = main_text.split('@')\n",
    "main_csv = csvs[2]\n",
    "csv = main_csv.split(';')\n",
    "rows = [row.split(',') for row in csv]\n",
    "df = pd.DataFrame(rows)"
   ]
  },
  {
   "cell_type": "code",
   "execution_count": 6,
   "id": "6fc55f14",
   "metadata": {},
   "outputs": [
    {
     "data": {
      "text/plain": [
       "1427"
      ]
     },
     "execution_count": 6,
     "metadata": {},
     "output_type": "execute_result"
    }
   ],
   "source": [
    "# df.to_csv('data.csv', index=False)\n",
    "len(df)"
   ]
  },
  {
   "cell_type": "code",
   "execution_count": 7,
   "id": "c394413f",
   "metadata": {},
   "outputs": [
    {
     "data": {
      "text/plain": [
       "751"
      ]
     },
     "execution_count": 7,
     "metadata": {},
     "output_type": "execute_result"
    }
   ],
   "source": [
    "stock_keys = ['300', '303', '305', '309', '380']\n",
    "main_df = df[df[22].isin(stock_keys)]\n",
    "\n",
    "main_df.to_csv('/tmp/watchlist/data.csv', index=False)\n",
    "len(main_df)"
   ]
  },
  {
   "cell_type": "code",
   "execution_count": 8,
   "id": "3031bbab",
   "metadata": {},
   "outputs": [],
   "source": [
    "import csv\n",
    "import sqlite3\n",
    "file = open('/tmp/watchlist/data.csv')\n",
    "csvreader = csv.reader(file)\n",
    "header = next(csvreader)\n",
    "db_rows = []\n",
    "for row in csvreader:\n",
    "    db_rows.append(row)\n",
    "file.close()\n",
    "\n",
    "conn = sqlite3.connect('/tmp/watchlist/data.db')\n",
    "cur = conn.cursor()\n",
    "cur.execute('DROP TABLE IF EXISTS data')\n",
    "cur.execute(\"\"\"CREATE TABLE IF NOT EXISTS data (\n",
    "    id INTEGER PRIMARY KEY AUTOINCREMENT,\n",
    "    one Text ,\n",
    "    two Text );\"\"\")\n",
    "conn.commit()\n",
    "\n",
    "def Insert_Data ():\n",
    "\n",
    "    for i in range(1, len(db_rows)):\n",
    "\n",
    "        one = str(db_rows[i][2])\n",
    "        two = str(db_rows[i][22])\n",
    "        number = i\n",
    "        query = f'INSERT INTO data VALUES (\"{number}\", \"{one}\",\"{two}\")'\n",
    "        cur.execute(query)\n",
    "        conn.commit()\n",
    "\n",
    "    conn.close()\n",
    "\n",
    "Insert_Data()"
   ]
  },
  {
   "cell_type": "code",
   "execution_count": 9,
   "id": "22a2be32",
   "metadata": {
    "scrolled": true
   },
   "outputs": [
    {
     "name": "stdout",
     "output_type": "stream",
     "text": [
      "شستا 🔴 = (L=901 (final=949>latest=944) H=995 ,444 Million)\n",
      "شبندر 🔴 = (L=8,630 (final=9,130>latest=8,990) H=9,730 ,48 Million)\n",
      "كگل 🟢 = (L=12,930 (final=13,740<latest=13,760) H=14,570 ,9 Million)\n",
      "فولاد 🔴 = (L=10,760 (final=11,150>latest=11,100) H=12,120 ,74 Million)\n",
      "خودرو 🟢 = (L=1,995 (final=2,202<latest=2,205) H=2,205 ,577 Million)\n"
     ]
    }
   ],
   "source": [
    "import pandas as pd\n",
    "import csv\n",
    "import time\n",
    "import math\n",
    "\n",
    "stock_keys = [ 'خودرو', 'كگل', 'شستا', 'فولاد', 'شبندر' ]\n",
    "watch_df = df[df[2].isin(stock_keys)]\n",
    "\n",
    "watch_df.to_csv('/tmp/watchlist/watch.csv', index=False)\n",
    "\n",
    "numbers_list = watch_df[2].tolist()\n",
    "\n",
    "Highـrange = watch_df[19].tolist()\n",
    "Lowـrange = watch_df[20].tolist()\n",
    "# numbers_listab = watch_df[12].tolist()\n",
    "# numbers_listac = watch_df[11].tolist()\n",
    "\n",
    "# id\n",
    "# numbers_finalvv = watch_df[0].tolist()\n",
    "\n",
    "# latest\n",
    "numbers_latest = watch_df[7].tolist()\n",
    "# final\n",
    "numbers_final = watch_df[6].tolist()\n",
    "# Volume\n",
    "numbers_final_v = watch_df[9].tolist()\n",
    "\n",
    "millnames = ['',' Thousand',' Million',' Billion',' Trillion']\n",
    "\n",
    "def millify(n):\n",
    "    n = float(n)\n",
    "    millidx = max(0,min(len(millnames)-1,\n",
    "                        int(math.floor(0 if n == 0 else math.log10(abs(n))/3))))\n",
    "\n",
    "    return '{:.0f}{}'.format(n / 10**(3 * millidx), millnames[millidx])\n",
    "\n",
    "n = 0\n",
    "Volume_list = []\n",
    "\n",
    "for i in range(len(numbers_final_v)):\n",
    "    inf = (int(numbers_final_v[n]))\n",
    "    Volume_list.append((millify(inf)))\n",
    "    n+=1\n",
    "\n",
    "m = 0\n",
    "for j in range (len(numbers_list)):\n",
    "    if (numbers_final[m] == numbers_latest[m]):\n",
    "        sign = \"⚪️\"\n",
    "        state = \"=\"\n",
    "#         sign = \"⏸\"\n",
    "    elif (numbers_final[m] > numbers_latest[m]):\n",
    "        sign = \"🔴\"\n",
    "        state = \">\"\n",
    "#         sign = \"⏬\"\n",
    "    elif (numbers_final[m] < numbers_latest[m]):\n",
    "        sign = \"🟢\"\n",
    "        state = \"<\"\n",
    "#         sign = \"⏫\"\n",
    "\n",
    "    final = (numbers_final[m]) \n",
    "    final = f\"{int(final):000,}\"\n",
    "    latest = (numbers_latest[m])\n",
    "    latest = f\"{int(latest):000,}\"\n",
    "    high = (Highـrange[m])\n",
    "    high = round(float(high))\n",
    "    high = f\"{(high):000,}\"\n",
    "    \n",
    "    low = (Lowـrange[m])\n",
    "    low = round(float(low))\n",
    "    low = f\"{(low):000,}\"\n",
    "    print(f\"{numbers_list[m]} {sign} = (L={low} (final={final}{state}latest={latest}) H={high} ,{Volume_list[m]})\")\n",
    "    m+=1\n",
    "    time.sleep(0.25)"
   ]
  }
 ],
 "metadata": {
  "kernelspec": {
   "display_name": "Python 3 (ipykernel)",
   "language": "python",
   "name": "python3"
  },
  "language_info": {
   "codemirror_mode": {
    "name": "ipython",
    "version": 3
   },
   "file_extension": ".py",
   "mimetype": "text/x-python",
   "name": "python",
   "nbconvert_exporter": "python",
   "pygments_lexer": "ipython3",
   "version": "3.10.5"
  }
 },
 "nbformat": 4,
 "nbformat_minor": 5
}
